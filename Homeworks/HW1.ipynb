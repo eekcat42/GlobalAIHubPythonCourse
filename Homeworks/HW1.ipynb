{
  "nbformat": 4,
  "nbformat_minor": 0,
  "metadata": {
    "colab": {
      "name": "Homework1_Day2.ipynb",
      "provenance": [],
      "collapsed_sections": []
    },
    "kernelspec": {
      "name": "python3",
      "display_name": "Python 3"
    },
    "language_info": {
      "name": "python"
    }
  },
  "cells": [
    {
      "cell_type": "code",
      "metadata": {
        "id": "W9dJlMhNjQ5h"
      },
      "source": [
        ""
      ],
      "execution_count": null,
      "outputs": []
    },
    {
      "cell_type": "code",
      "metadata": {
        "colab": {
          "base_uri": "https://localhost:8080/"
        },
        "id": "GFI6VPq0jT1s",
        "outputId": "1af29c66-b462-4802-b908-9fbc5d18eaa7"
      },
      "source": [
        "# Day2, Homework1, Section-1\n",
        "list1=[1,2,3,4,5,6,7,8,9,10]\n",
        "\n",
        "list1[:int(len(list1)/2)], list1[int(len(list1)/2):] = list1[int(len(list1)/2):],list1[:int(len(list1)/2)]\n",
        "print(list1)"
      ],
      "execution_count": 1,
      "outputs": [
        {
          "output_type": "stream",
          "text": [
            "[6, 7, 8, 9, 10, 1, 2, 3, 4, 5]\n"
          ],
          "name": "stdout"
        }
      ]
    },
    {
      "cell_type": "code",
      "metadata": {
        "colab": {
          "base_uri": "https://localhost:8080/"
        },
        "id": "Saj4FLXJjVy1",
        "outputId": "6ed7d287-6d68-4853-ae0f-d4129041e899"
      },
      "source": [
        "# Day2, Homework1, Section-2\n",
        "n = int(input(\"Tek basamaklı pozitif tam bir sayı giriniz:\"))\n",
        "\n",
        "if n > 0 and n < 10:\n",
          "list1=[i for i in range(n+1) if not(i % 2) ]\n",
          "print(\"0'dan baslayarak \"+ str(n) +\"'e kadar olan tam çift sayilar:\",list1)\n"
        "else:\n",
          "print(\"Girilen değer uygun aralıkta değil!\")\n"
      ],
      "execution_count": 4,
      "outputs": [
        {
          "output_type": "stream",
          "text": [
            "Tek basamaklı pozitif tam bir sayı giriniz:8\n",
            "0'dan baslayarak 8'e kadar olan tam çift sayilar: [0, 2, 4, 6, 8]\n"
          ],
          "name": "stdout"
        }
      ]
    },
    {
      "cell_type": "code",
      "metadata": {
        "id": "APXgqk55kPgT"
      },
      "source": [
        ""
      ],
      "execution_count": null,
      "outputs": []
    }
  ]
}
