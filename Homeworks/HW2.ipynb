{
  "nbformat": 4,
  "nbformat_minor": 0,
  "metadata": {
    "colab": {
      "name": "Homework2_Day3.ipynb",
      "provenance": []
    },
    "kernelspec": {
      "name": "python3",
      "display_name": "Python 3"
    },
    "language_info": {
      "name": "python"
    }
  },
  "cells": [
    {
      "cell_type": "code",
      "metadata": {
        "colab": {
          "base_uri": "https://localhost:8080/",
          "height": 70
        },
        "id": "dyGZahzsy_OJ",
        "outputId": "f705c2a1-1676-436d-dc68-cc6b9bd40060"
      },
      "source": [
        "# Kullanıcı Adı - Şifre Kombinasyonu Verileri Burada Tutulur\n",
        "userviaPass = {\"Anıl\":\"1234\",\n",
        "               \"Mehmet\":\"456\",\n",
        "               \"Özgür\":\"857\",\n",
        "               \"Ayça\":\"2015\"}\n",
        "# Ilklendirmeler       \n",
        "processRes = False\n",
        "responses = {(0):\"Kullanıcı Adı ve/veya Şifre Yanlış\",\n",
        "             (1):\"**Başarıyla Giriş Yaptınız!**\"}\n",
        "\n",
        "# Kullanıcı Bilgileri Alınır\n",
        "userIn = str(input(\"Lütfen kullanıcı adınızı giriniz: \"))\n",
        "passIn = str(input(\"Lütfen parolanızı giriniz: \"))\n",
        "\n",
        "for userCheck, passCheck in userviaPass.items():\n",
        "  resultUser = (userCheck == userIn)\n",
        "  resultPass = (passCheck == passIn)\n",
        "  if (resultUser and resultPass):\n",
        "    processRes = True\n",
        "    break\n",
        "\n",
        "responses[(processRes)]\n"
      ],
      "execution_count": 14,
      "outputs": [
        {
          "output_type": "stream",
          "text": [
            "Lütfen kullanıcı adınızı giriniz: Özgür\n",
            "Lütfen parolanızı giriniz: 12\n"
          ],
          "name": "stdout"
        },
        {
          "output_type": "execute_result",
          "data": {
            "application/vnd.google.colaboratory.intrinsic+json": {
              "type": "string"
            },
            "text/plain": [
              "'Kullanıcı Adı ve/veya Şifre Yanlış'"
            ]
          },
          "metadata": {
            "tags": []
          },
          "execution_count": 14
        }
      ]
    }
  ]
}